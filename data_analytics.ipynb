{
 "cells": [
  {
   "cell_type": "code",
   "execution_count": 1,
   "metadata": {},
   "outputs": [
    {
     "name": "stdout",
     "output_type": "stream",
     "text": [
      "   volume_sold  2015_margin  2015_q1_sales  2016_q1_sales\n",
      "0    18.420760    93.802281      337166.53      337804.05\n",
      "1     4.776510    21.082425       22351.86       21736.63\n",
      "2    16.602401    93.612494      277764.46      306942.27\n",
      "3     4.296111    16.824704       16805.11        9307.75\n",
      "4     8.156023    35.011457       54411.42       58939.90\n"
     ]
    }
   ],
   "source": [
    "#This is my jupyter Notebook\n",
    "import pandas as pd\n",
    "\n",
    "df = pd.read_csv('sales_info.csv')\n",
    "print(df.head())"
   ]
  }
 ],
 "metadata": {
  "kernelspec": {
   "display_name": "Python 3",
   "language": "python",
   "name": "python3"
  },
  "language_info": {
   "codemirror_mode": {
    "name": "ipython",
    "version": 3
   },
   "file_extension": ".py",
   "mimetype": "text/x-python",
   "name": "python",
   "nbconvert_exporter": "python",
   "pygments_lexer": "ipython3",
   "version": "3.12.2"
  }
 },
 "nbformat": 4,
 "nbformat_minor": 2
}
